{
 "cells": [
  {
   "cell_type": "markdown",
   "id": "385819e2",
   "metadata": {},
   "source": [
    "# Linear Algebra"
   ]
  },
  {
   "cell_type": "markdown",
   "id": "fd7cc954",
   "metadata": {},
   "source": [
    "### Dot product"
   ]
  },
  {
   "cell_type": "code",
   "execution_count": 1,
   "id": "67b72219",
   "metadata": {},
   "outputs": [],
   "source": [
    "import numpy as np"
   ]
  },
  {
   "cell_type": "code",
   "execution_count": 2,
   "id": "f0d57eea",
   "metadata": {},
   "outputs": [],
   "source": [
    "u = np.array([1, 4, 6, 3])\n",
    "v = np.array([2, 4, 5, 9])"
   ]
  },
  {
   "cell_type": "code",
   "execution_count": 3,
   "id": "2ddbf889",
   "metadata": {},
   "outputs": [
    {
     "data": {
      "text/plain": [
       "array([2, 4, 5, 9])"
      ]
     },
     "execution_count": 3,
     "metadata": {},
     "output_type": "execute_result"
    }
   ],
   "source": [
    "v"
   ]
  },
  {
   "cell_type": "code",
   "execution_count": 4,
   "id": "f1ae5dbe",
   "metadata": {},
   "outputs": [
    {
     "data": {
      "text/plain": [
       "(4,)"
      ]
     },
     "execution_count": 4,
     "metadata": {},
     "output_type": "execute_result"
    }
   ],
   "source": [
    "v.shape   # returns a tuple"
   ]
  },
  {
   "cell_type": "code",
   "execution_count": 25,
   "id": "06173f5d",
   "metadata": {},
   "outputs": [],
   "source": [
    "def dot_product(u, v):\n",
    "    assert u.shape[0] == v.shape[0]\n",
    "    \n",
    "    result = 0.0\n",
    "    \n",
    "    n = v.shape[0]\n",
    "    \n",
    "    for i in range(n):\n",
    "        result += u[i]*v[i]\n",
    "        \n",
    "    return result"
   ]
  },
  {
   "cell_type": "code",
   "execution_count": 6,
   "id": "f486faf6",
   "metadata": {},
   "outputs": [
    {
     "data": {
      "text/plain": [
       "75.0"
      ]
     },
     "execution_count": 6,
     "metadata": {},
     "output_type": "execute_result"
    }
   ],
   "source": [
    "dot_product(u,v)"
   ]
  },
  {
   "cell_type": "code",
   "execution_count": 7,
   "id": "663de7ff",
   "metadata": {},
   "outputs": [
    {
     "data": {
      "text/plain": [
       "75"
      ]
     },
     "execution_count": 7,
     "metadata": {},
     "output_type": "execute_result"
    }
   ],
   "source": [
    "v.dot(u)"
   ]
  },
  {
   "cell_type": "markdown",
   "id": "94d721bf",
   "metadata": {},
   "source": [
    "### Matrix vector multiplication"
   ]
  },
  {
   "cell_type": "code",
   "execution_count": 12,
   "id": "cd7df1d9",
   "metadata": {},
   "outputs": [
    {
     "data": {
      "text/plain": [
       "array([[1, 3, 4],\n",
       "       [2, 4, 5],\n",
       "       [8, 4, 1]])"
      ]
     },
     "execution_count": 12,
     "metadata": {},
     "output_type": "execute_result"
    }
   ],
   "source": [
    "M = np.array([[1, 3, 4],\n",
    "              [2, 4, 5],\n",
    "              [8, 4, 1]]) # matrix\n",
    "M"
   ]
  },
  {
   "cell_type": "code",
   "execution_count": 10,
   "id": "7bf81406",
   "metadata": {},
   "outputs": [
    {
     "data": {
      "text/plain": [
       "(3, 3)"
      ]
     },
     "execution_count": 10,
     "metadata": {},
     "output_type": "execute_result"
    }
   ],
   "source": [
    "M.shape"
   ]
  },
  {
   "cell_type": "code",
   "execution_count": 11,
   "id": "d7116403",
   "metadata": {},
   "outputs": [],
   "source": [
    "n = np.array([2, 5, 3]) # vector"
   ]
  },
  {
   "cell_type": "code",
   "execution_count": 34,
   "id": "034c0798",
   "metadata": {},
   "outputs": [],
   "source": [
    "def matrix_vector_multiplication(U,v):\n",
    "    assert U.shape[1] == v.shape[0]\n",
    "    \n",
    "    num_of_rows = U.shape[0]\n",
    "    \n",
    "    result = np.zeros(num_of_rows)\n",
    "    \n",
    "    for i in range(num_of_rows):\n",
    "        result[i] = dot_product(U[i],v)\n",
    "        \n",
    "    return result\n",
    "        "
   ]
  },
  {
   "cell_type": "code",
   "execution_count": 35,
   "id": "3b13c260",
   "metadata": {},
   "outputs": [
    {
     "data": {
      "text/plain": [
       "array([29., 39., 39.])"
      ]
     },
     "execution_count": 35,
     "metadata": {},
     "output_type": "execute_result"
    }
   ],
   "source": [
    "matrix_vector_multiplication(M,n)"
   ]
  },
  {
   "cell_type": "code",
   "execution_count": 36,
   "id": "a7ed8818",
   "metadata": {},
   "outputs": [
    {
     "data": {
      "text/plain": [
       "array([29, 39, 39])"
      ]
     },
     "execution_count": 36,
     "metadata": {},
     "output_type": "execute_result"
    }
   ],
   "source": [
    "M.dot(n)"
   ]
  }
 ],
 "metadata": {
  "kernelspec": {
   "display_name": "Python 3 (ipykernel)",
   "language": "python",
   "name": "python3"
  },
  "language_info": {
   "codemirror_mode": {
    "name": "ipython",
    "version": 3
   },
   "file_extension": ".py",
   "mimetype": "text/x-python",
   "name": "python",
   "nbconvert_exporter": "python",
   "pygments_lexer": "ipython3",
   "version": "3.9.12"
  }
 },
 "nbformat": 4,
 "nbformat_minor": 5
}
